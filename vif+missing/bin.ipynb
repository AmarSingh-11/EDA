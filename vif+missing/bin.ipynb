{
 "cells": [
  {
   "cell_type": "code",
   "execution_count": 1,
   "metadata": {},
   "outputs": [
    {
     "name": "stderr",
     "output_type": "stream",
     "text": [
      "C:\\Users\\91638\\anaconda3\\lib\\site-packages\\scipy\\__init__.py:155: UserWarning: A NumPy version >=1.18.5 and <1.25.0 is required for this version of SciPy (detected version 1.26.1\n",
      "  warnings.warn(f\"A NumPy version >={np_minversion} and <{np_maxversion}\"\n"
     ]
    }
   ],
   "source": [
    "import numpy as np\n",
    "import matplotlib.pyplot as plt\n",
    "import pandas as pd\n",
    "import seaborn as sns"
   ]
  },
  {
   "cell_type": "code",
   "execution_count": 2,
   "metadata": {},
   "outputs": [
    {
     "data": {
      "text/html": [
       "<div>\n",
       "<style scoped>\n",
       "    .dataframe tbody tr th:only-of-type {\n",
       "        vertical-align: middle;\n",
       "    }\n",
       "\n",
       "    .dataframe tbody tr th {\n",
       "        vertical-align: top;\n",
       "    }\n",
       "\n",
       "    .dataframe thead th {\n",
       "        text-align: right;\n",
       "    }\n",
       "</style>\n",
       "<table border=\"1\" class=\"dataframe\">\n",
       "  <thead>\n",
       "    <tr style=\"text-align: right;\">\n",
       "      <th></th>\n",
       "      <th>Unnamed: 0</th>\n",
       "      <th>ID</th>\n",
       "      <th>Gender</th>\n",
       "      <th>Ever_Married</th>\n",
       "      <th>Age</th>\n",
       "      <th>Graduated</th>\n",
       "      <th>Work_Experience</th>\n",
       "      <th>Spending_Score</th>\n",
       "      <th>Family_Size</th>\n",
       "      <th>Cluster</th>\n",
       "    </tr>\n",
       "  </thead>\n",
       "  <tbody>\n",
       "    <tr>\n",
       "      <th>0</th>\n",
       "      <td>0</td>\n",
       "      <td>458989</td>\n",
       "      <td>Female</td>\n",
       "      <td>Yes</td>\n",
       "      <td>36</td>\n",
       "      <td>Yes</td>\n",
       "      <td>0.0</td>\n",
       "      <td>Low</td>\n",
       "      <td>1.0</td>\n",
       "      <td>0</td>\n",
       "    </tr>\n",
       "    <tr>\n",
       "      <th>1</th>\n",
       "      <td>1</td>\n",
       "      <td>458994</td>\n",
       "      <td>Male</td>\n",
       "      <td>Yes</td>\n",
       "      <td>37</td>\n",
       "      <td>Yes</td>\n",
       "      <td>8.0</td>\n",
       "      <td>Average</td>\n",
       "      <td>4.0</td>\n",
       "      <td>2</td>\n",
       "    </tr>\n",
       "    <tr>\n",
       "      <th>2</th>\n",
       "      <td>2</td>\n",
       "      <td>458996</td>\n",
       "      <td>Female</td>\n",
       "      <td>Yes</td>\n",
       "      <td>69</td>\n",
       "      <td>No</td>\n",
       "      <td>0.0</td>\n",
       "      <td>Low</td>\n",
       "      <td>1.0</td>\n",
       "      <td>0</td>\n",
       "    </tr>\n",
       "    <tr>\n",
       "      <th>3</th>\n",
       "      <td>3</td>\n",
       "      <td>459000</td>\n",
       "      <td>Male</td>\n",
       "      <td>Yes</td>\n",
       "      <td>59</td>\n",
       "      <td>No</td>\n",
       "      <td>11.0</td>\n",
       "      <td>High</td>\n",
       "      <td>2.0</td>\n",
       "      <td>2</td>\n",
       "    </tr>\n",
       "    <tr>\n",
       "      <th>4</th>\n",
       "      <td>4</td>\n",
       "      <td>459001</td>\n",
       "      <td>Female</td>\n",
       "      <td>No</td>\n",
       "      <td>19</td>\n",
       "      <td>No</td>\n",
       "      <td>NaN</td>\n",
       "      <td>Low</td>\n",
       "      <td>4.0</td>\n",
       "      <td>1</td>\n",
       "    </tr>\n",
       "  </tbody>\n",
       "</table>\n",
       "</div>"
      ],
      "text/plain": [
       "   Unnamed: 0      ID  Gender Ever_Married  Age Graduated  Work_Experience  \\\n",
       "0           0  458989  Female          Yes   36       Yes              0.0   \n",
       "1           1  458994    Male          Yes   37       Yes              8.0   \n",
       "2           2  458996  Female          Yes   69        No              0.0   \n",
       "3           3  459000    Male          Yes   59        No             11.0   \n",
       "4           4  459001  Female           No   19        No              NaN   \n",
       "\n",
       "  Spending_Score  Family_Size  Cluster  \n",
       "0            Low          1.0        0  \n",
       "1        Average          4.0        2  \n",
       "2            Low          1.0        0  \n",
       "3           High          2.0        2  \n",
       "4            Low          4.0        1  "
      ]
     },
     "execution_count": 2,
     "metadata": {},
     "output_type": "execute_result"
    }
   ],
   "source": [
    "df = pd.read_csv('Customer Analysis.csv')\n",
    "df.head()"
   ]
  },
  {
   "cell_type": "markdown",
   "metadata": {},
   "source": [
    "## 1st method"
   ]
  },
  {
   "cell_type": "code",
   "execution_count": 3,
   "metadata": {},
   "outputs": [
    {
     "data": {
      "text/plain": [
       "(array([257., 204., 275., 271., 280., 286., 235., 279., 260., 280.]),\n",
       " array([18., 25., 28., 32., 37., 41., 46., 50., 58., 69., 89.]),\n",
       " <BarContainer object of 10 artists>)"
      ]
     },
     "execution_count": 3,
     "metadata": {},
     "output_type": "execute_result"
    },
    {
     "data": {
      "image/png": "[encoded data removed]",
      "text/plain": [
       "<Figure size 640x480 with 1 Axes>"
      ]
     },
     "metadata": {},
     "output_type": "display_data"
    }
   ],
   "source": [
    "def equal_obs(x,nbin):\n",
    "    nlen = len(x)\n",
    "    return np.interp(np.linspace(0,nlen,nbin+1),\n",
    "                     np.arange(nlen),\n",
    "                     np.sort(x)\n",
    "                     )\n",
    "    \n",
    "plt.hist(df['Age'],equal_obs(df['Age'],10))"
   ]
  },
  {
   "cell_type": "code",
   "execution_count": 4,
   "metadata": {},
   "outputs": [
    {
     "name": "stdout",
     "output_type": "stream",
     "text": [
      "Help on _ArrayFunctionDispatcher in module numpy:\n",
      "\n",
      "interp(x, xp, fp, left=None, right=None, period=None)\n",
      "    One-dimensional linear interpolation for monotonically increasing sample points.\n",
      "    \n",
      "    Returns the one-dimensional piecewise linear interpolant to a function\n",
      "    with given discrete data points (`xp`, `fp`), evaluated at `x`.\n",
      "    \n",
      "    Parameters\n",
      "    ----------\n",
      "    x : array_like\n",
      "        The x-coordinates at which to evaluate the interpolated values.\n",
      "    \n",
      "    xp : 1-D sequence of floats\n",
      "        The x-coordinates of the data points, must be increasing if argument\n",
      "        `period` is not specified. Otherwise, `xp` is internally sorted after\n",
      "        normalizing the periodic boundaries with ``xp = xp % period``.\n",
      "    \n",
      "    fp : 1-D sequence of float or complex\n",
      "        The y-coordinates of the data points, same length as `xp`.\n",
      "    \n",
      "    left : optional float or complex corresponding to fp\n",
      "        Value to return for `x < xp[0]`, default is `fp[0]`.\n",
      "    \n",
      "    right : optional float or complex corresponding to fp\n",
      "        Value to return for `x > xp[-1]`, default is `fp[-1]`.\n",
      "    \n",
      "    period : None or float, optional\n",
      "        A period for the x-coordinates. This parameter allows the proper\n",
      "        interpolation of angular x-coordinates. Parameters `left` and `right`\n",
      "        are ignored if `period` is specified.\n",
      "    \n",
      "        .. versionadded:: 1.10.0\n",
      "    \n",
      "    Returns\n",
      "    -------\n",
      "    y : float or complex (corresponding to fp) or ndarray\n",
      "        The interpolated values, same shape as `x`.\n",
      "    \n",
      "    Raises\n",
      "    ------\n",
      "    ValueError\n",
      "        If `xp` and `fp` have different length\n",
      "        If `xp` or `fp` are not 1-D sequences\n",
      "        If `period == 0`\n",
      "    \n",
      "    See Also\n",
      "    --------\n",
      "    scipy.interpolate\n",
      "    \n",
      "    Warnings\n",
      "    --------\n",
      "    The x-coordinate sequence is expected to be increasing, but this is not\n",
      "    explicitly enforced.  However, if the sequence `xp` is non-increasing,\n",
      "    interpolation results are meaningless.\n",
      "    \n",
      "    Note that, since NaN is unsortable, `xp` also cannot contain NaNs.\n",
      "    \n",
      "    A simple check for `xp` being strictly increasing is::\n",
      "    \n",
      "        np.all(np.diff(xp) > 0)\n",
      "    \n",
      "    Examples\n",
      "    --------\n",
      "    >>> xp = [1, 2, 3]\n",
      "    >>> fp = [3, 2, 0]\n",
      "    >>> np.interp(2.5, xp, fp)\n",
      "    1.0\n",
      "    >>> np.interp([0, 1, 1.5, 2.72, 3.14], xp, fp)\n",
      "    array([3.  , 3.  , 2.5 , 0.56, 0.  ])\n",
      "    >>> UNDEF = -99.0\n",
      "    >>> np.interp(3.14, xp, fp, right=UNDEF)\n",
      "    -99.0\n",
      "    \n",
      "    Plot an interpolant to the sine function:\n",
      "    \n",
      "    >>> x = np.linspace(0, 2*np.pi, 10)\n",
      "    >>> y = np.sin(x)\n",
      "    >>> xvals = np.linspace(0, 2*np.pi, 50)\n",
      "    >>> yinterp = np.interp(xvals, x, y)\n",
      "    >>> import matplotlib.pyplot as plt\n",
      "    >>> plt.plot(x, y, 'o')\n",
      "    [<matplotlib.lines.Line2D object at 0x...>]\n",
      "    >>> plt.plot(xvals, yinterp, '-x')\n",
      "    [<matplotlib.lines.Line2D object at 0x...>]\n",
      "    >>> plt.show()\n",
      "    \n",
      "    Interpolation with periodic x-coordinates:\n",
      "    \n",
      "    >>> x = [-180, -170, -185, 185, -10, -5, 0, 365]\n",
      "    >>> xp = [190, -190, 350, -350]\n",
      "    >>> fp = [5, 10, 3, 4]\n",
      "    >>> np.interp(x, xp, fp, period=360)\n",
      "    array([7.5 , 5.  , 8.75, 6.25, 3.  , 3.25, 3.5 , 3.75])\n",
      "    \n",
      "    Complex interpolation:\n",
      "    \n",
      "    >>> x = [1.5, 4.0]\n",
      "    >>> xp = [2,3,5]\n",
      "    >>> fp = [1.0j, 0, 2+3j]\n",
      "    >>> np.interp(x, xp, fp)\n",
      "    array([0.+1.j , 1.+1.5j])\n",
      "\n"
     ]
    }
   ],
   "source": [
    "help(np.interp)"
   ]
  },
  {
   "cell_type": "code",
   "execution_count": 5,
   "metadata": {},
   "outputs": [
    {
     "data": {
      "text/plain": [
       "<AxesSubplot:xlabel='Age', ylabel='Count'>"
      ]
     },
     "execution_count": 5,
     "metadata": {},
     "output_type": "execute_result"
    },
    {
     "data": {
      "image/png": "[encoded data removed]",
      "text/plain": [
       "<Figure size 640x480 with 1 Axes>"
      ]
     },
     "metadata": {},
     "output_type": "display_data"
    }
   ],
   "source": [
    "sns.histplot(data = df, x = 'Age')"
   ]
  },
  {
   "cell_type": "code",
   "execution_count": 6,
   "metadata": {},
   "outputs": [
    {
     "data": {
      "image/png": "[encoded data removed]",
      "text/plain": [
       "<Figure size 640x480 with 1 Axes>"
      ]
     },
     "metadata": {},
     "output_type": "display_data"
    }
   ],
   "source": [
    "df['Age_Bin'] = pd.qcut(df['Age'], q=10)\n",
    "\n",
    "\n",
    "sns.countplot(data=df, x='Age_Bin', color='skyblue')\n",
    "plt.xticks(rotation=45)\n",
    "\n",
    "plt.show()"
   ]
  },
  {
   "cell_type": "markdown",
   "metadata": {},
   "source": [
    "## VIF"
   ]
  },
  {
   "cell_type": "code",
   "execution_count": 7,
   "metadata": {},
   "outputs": [],
   "source": [
    "data_cleaned = df.dropna()"
   ]
  },
  {
   "cell_type": "code",
   "execution_count": 8,
   "metadata": {},
   "outputs": [
    {
     "name": "stderr",
     "output_type": "stream",
     "text": [
      "C:\\Users\\91638\\AppData\\Local\\Temp\\ipykernel_12652\\2426836795.py:8: SettingWithCopyWarning: \n",
      "A value is trying to be set on a copy of a slice from a DataFrame.\n",
      "Try using .loc[row_indexer,col_indexer] = value instead\n",
      "\n",
      "See the caveats in the documentation: https://pandas.pydata.org/pandas-docs/stable/user_guide/indexing.html#returning-a-view-versus-a-copy\n",
      "  data_cleaned[column] = le.fit_transform(data_cleaned[column])\n"
     ]
    },
    {
     "data": {
      "text/html": [
       "<div>\n",
       "<style scoped>\n",
       "    .dataframe tbody tr th:only-of-type {\n",
       "        vertical-align: middle;\n",
       "    }\n",
       "\n",
       "    .dataframe tbody tr th {\n",
       "        vertical-align: top;\n",
       "    }\n",
       "\n",
       "    .dataframe thead th {\n",
       "        text-align: right;\n",
       "    }\n",
       "</style>\n",
       "<table border=\"1\" class=\"dataframe\">\n",
       "  <thead>\n",
       "    <tr style=\"text-align: right;\">\n",
       "      <th></th>\n",
       "      <th>Variable</th>\n",
       "      <th>VIF</th>\n",
       "    </tr>\n",
       "  </thead>\n",
       "  <tbody>\n",
       "    <tr>\n",
       "      <th>0</th>\n",
       "      <td>Gender</td>\n",
       "      <td>2.219114</td>\n",
       "    </tr>\n",
       "    <tr>\n",
       "      <th>1</th>\n",
       "      <td>Ever_Married</td>\n",
       "      <td>5.319008</td>\n",
       "    </tr>\n",
       "    <tr>\n",
       "      <th>2</th>\n",
       "      <td>Age</td>\n",
       "      <td>9.719938</td>\n",
       "    </tr>\n",
       "    <tr>\n",
       "      <th>3</th>\n",
       "      <td>Graduated</td>\n",
       "      <td>2.814455</td>\n",
       "    </tr>\n",
       "    <tr>\n",
       "      <th>4</th>\n",
       "      <td>Work_Experience</td>\n",
       "      <td>1.557010</td>\n",
       "    </tr>\n",
       "    <tr>\n",
       "      <th>5</th>\n",
       "      <td>Spending_Score</td>\n",
       "      <td>3.913148</td>\n",
       "    </tr>\n",
       "    <tr>\n",
       "      <th>6</th>\n",
       "      <td>Family_Size</td>\n",
       "      <td>3.078592</td>\n",
       "    </tr>\n",
       "  </tbody>\n",
       "</table>\n",
       "</div>"
      ],
      "text/plain": [
       "          Variable       VIF\n",
       "0           Gender  2.219114\n",
       "1     Ever_Married  5.319008\n",
       "2              Age  9.719938\n",
       "3        Graduated  2.814455\n",
       "4  Work_Experience  1.557010\n",
       "5   Spending_Score  3.913148\n",
       "6      Family_Size  3.078592"
      ]
     },
     "execution_count": 8,
     "metadata": {},
     "output_type": "execute_result"
    }
   ],
   "source": [
    "from statsmodels.stats.outliers_influence import variance_inflation_factor\n",
    "from sklearn.preprocessing import LabelEncoder\n",
    "\n",
    "\n",
    "\n",
    "for column in ['Gender', 'Ever_Married', 'Graduated', 'Spending_Score']:\n",
    "    le = LabelEncoder()\n",
    "    data_cleaned[column] = le.fit_transform(data_cleaned[column])\n",
    "\n",
    "\n",
    "\n",
    "features = data_cleaned[['Gender', 'Ever_Married', 'Age', 'Graduated', 'Work_Experience', 'Spending_Score', 'Family_Size']]\n",
    "\n",
    "vif_data = pd.DataFrame()\n",
    "vif_data[\"Variable\"] = features.columns\n",
    "vif_data[\"VIF\"] = [variance_inflation_factor(features.values, i) for i in range(features.shape[1])]\n",
    "\n",
    "vif_data\n"
   ]
  },
  {
   "cell_type": "code",
   "execution_count": 9,
   "metadata": {},
   "outputs": [
    {
     "data": {
      "text/plain": [
       "71.0"
      ]
     },
     "execution_count": 9,
     "metadata": {},
     "output_type": "execute_result"
    }
   ],
   "source": [
    "2627/37"
   ]
  },
  {
   "cell_type": "code",
   "execution_count": null,
   "metadata": {},
   "outputs": [],
   "source": []
  }
 ],
 "metadata": {
  "kernelspec": {
   "display_name": "Python 3 (ipykernel)",
   "language": "python",
   "name": "python3"
  },
  "language_info": {
   "codemirror_mode": {
    "name": "ipython",
    "version": 3
   },
   "file_extension": ".py",
   "mimetype": "text/x-python",
   "name": "python",
   "nbconvert_exporter": "python",
   "pygments_lexer": "ipython3",
   "version": "3.9.13"
  }
 },
 "nbformat": 4,
 "nbformat_minor": 2
}
